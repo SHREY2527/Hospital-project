{
 "cells": [
  {
   "cell_type": "code",
   "execution_count": 1,
   "metadata": {},
   "outputs": [
    {
     "name": "stdout",
     "output_type": "stream",
     "text": [
      "hllo\n"
     ]
    }
   ],
   "source": [
    "print('hllo')"
   ]
  },
  {
   "cell_type": "code",
   "execution_count": 12,
   "metadata": {},
   "outputs": [
    {
     "name": "stdout",
     "output_type": "stream",
     "text": [
      "3 0\n"
     ]
    }
   ],
   "source": [
    "arr1 = [1,2,3]\n",
    "ar2 = [3,5,6]\n",
    "\n",
    "tocheck = [1,2,3]\n",
    "count1 = 0\n",
    "count2 = 0\n",
    "\n",
    "for i in range(len(tocheck)):\n",
    "    if tocheck[i] in arr1:\n",
    "        count1 +=1\n",
    "print(count1,count2)"
   ]
  },
  {
   "cell_type": "code",
   "execution_count": 1,
   "metadata": {},
   "outputs": [
    {
     "name": "stdout",
     "output_type": "stream",
     "text": [
      "{'sizzer', 'bed', 'anesthesthiys', 'nedle'}\n",
      "{'software', 'hardware', 'lightning'}\n"
     ]
    }
   ],
   "source": []
  },
  {
   "cell_type": "code",
   "execution_count": 90,
   "metadata": {},
   "outputs": [
    {
     "name": "stdout",
     "output_type": "stream",
     "text": [
      "you  received OT1\n"
     ]
    }
   ],
   "source": [
    "from datetime import datetime\n",
    "\n",
    "\n",
    "room = ['OT1','OT2','OT3','OT4','OT5','OT6']\n",
    "def type(surgery):\n",
    "\n",
    "    if surgery == 'hand':\n",
    "        return \"you  received {}\".format(room[0])\n",
    "        \n",
    "    elif surgery == 'eyes':\n",
    "        return \"you  received {}\".format(room[1])\n",
    "        \n",
    "    elif surgery == 'brain':\n",
    "        return \"you  received {}\".format(room[2])\n",
    "\n",
    "    elif surgery == 'ENT':\n",
    "        return \"you  received {}\".format(room[3])\n",
    "    elif surgery == 'gynecology':\n",
    "        return \"you  received {}\".format(room[4])\n",
    "    else:\n",
    "        return \"you  received {}\".format(room[5])\n",
    "\n",
    "print(type('hand'))    \n",
    "\n",
    "\n",
    "\n"
   ]
  },
  {
   "cell_type": "code",
   "execution_count": 100,
   "metadata": {},
   "outputs": [
    {
     "name": "stdout",
     "output_type": "stream",
     "text": [
      "Mon Jan 13 13:18:09 2020\n",
      "Wed Sep 28 15:46:05 2022\n"
     ]
    }
   ],
   "source": [
    "import time\n",
    "\n",
    "\n",
    "t = (2020, 1, 13, 13, 18, 9, 0, 3, 0)\n",
    "date = time.asctime(t)\n",
    "\n",
    "\n",
    "date2 = time.ctime(seconds)\n",
    "print(date)\n",
    "print(date2)"
   ]
  },
  {
   "cell_type": "code",
   "execution_count": null,
   "metadata": {},
   "outputs": [],
   "source": []
  },
  {
   "cell_type": "code",
   "execution_count": null,
   "metadata": {},
   "outputs": [],
   "source": [
    "\n",
    "    \n",
    "\n",
    "    \n",
    "\n"
   ]
  },
  {
   "cell_type": "markdown",
   "metadata": {},
   "source": []
  },
  {
   "cell_type": "code",
   "execution_count": null,
   "metadata": {},
   "outputs": [],
   "source": []
  },
  {
   "cell_type": "code",
   "execution_count": null,
   "metadata": {},
   "outputs": [],
   "source": []
  }
 ],
 "metadata": {
  "kernelspec": {
   "display_name": "Python 3.10.6 64-bit",
   "language": "python",
   "name": "python3"
  },
  "language_info": {
   "codemirror_mode": {
    "name": "ipython",
    "version": 3
   },
   "file_extension": ".py",
   "mimetype": "text/x-python",
   "name": "python",
   "nbconvert_exporter": "python",
   "pygments_lexer": "ipython3",
   "version": "3.10.6"
  },
  "orig_nbformat": 4,
  "vscode": {
   "interpreter": {
    "hash": "61a5302c91f0228c70d98bfe8b68e4429a452bb888fc5e5a99a438201964d309"
   }
  }
 },
 "nbformat": 4,
 "nbformat_minor": 2
}
